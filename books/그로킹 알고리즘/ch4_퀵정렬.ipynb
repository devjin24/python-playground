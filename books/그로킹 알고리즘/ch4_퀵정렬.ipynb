{
 "cells": [
  {
   "cell_type": "markdown",
   "metadata": {},
   "source": [
    "# 퀵정렬\n",
    "## 분할 정복 전략\n",
    "큰 문제를와 작은 문제를 같은 전략으로 푸는 것"
   ]
  },
  {
   "cell_type": "code",
   "execution_count": null,
   "metadata": {},
   "outputs": [
    {
     "name": "stdout",
     "output_type": "stream",
     "text": [
      "12\n"
     ]
    }
   ],
   "source": [
    "def reculsiveSum(arr):\n",
    "    if len(arr) <= 1:\n",
    "        return arr[0]\n",
    "    else:\n",
    "        return arr[0] + reculsiveSum(arr[1:])\n",
    "\n",
    "print(reculsiveSum([2,4,6]))"
   ]
  },
  {
   "cell_type": "markdown",
   "metadata": {},
   "source": [
    "## 퀵 정렬"
   ]
  },
  {
   "cell_type": "code",
   "execution_count": 20,
   "metadata": {},
   "outputs": [
    {
     "name": "stdout",
     "output_type": "stream",
     "text": [
      "[2, 3, 5, 10]\n"
     ]
    }
   ],
   "source": [
    "def quickSort(arr):\n",
    "    if len(arr) < 2:\n",
    "        return arr\n",
    "    else:\n",
    "        temp = list(arr)\n",
    "        pivot = temp.pop(len(arr) // 2)\n",
    "        less = [i for i in temp if i <= pivot]\n",
    "        greater = [i for i in temp if i > pivot]\n",
    "        return quickSort(less) + [pivot] + quickSort(greater)\n",
    "    \n",
    "print(quickSort([10,5,2,3]))"
   ]
  }
 ],
 "metadata": {
  "kernelspec": {
   "display_name": "python-playground-W_8No6fr",
   "language": "python",
   "name": "python3"
  },
  "language_info": {
   "codemirror_mode": {
    "name": "ipython",
    "version": 3
   },
   "file_extension": ".py",
   "mimetype": "text/x-python",
   "name": "python",
   "nbconvert_exporter": "python",
   "pygments_lexer": "ipython3",
   "version": "3.10.12"
  }
 },
 "nbformat": 4,
 "nbformat_minor": 2
}
