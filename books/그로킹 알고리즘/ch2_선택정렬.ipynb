{
 "cells": [
  {
   "cell_type": "markdown",
   "metadata": {},
   "source": [
    "# 선택정렬\n",
    "O(n^2)"
   ]
  },
  {
   "cell_type": "code",
   "execution_count": 5,
   "metadata": {},
   "outputs": [],
   "source": [
    "def findSmallest(arr):\n",
    "    smallest = arr[0]\n",
    "    smallest_index = 0\n",
    "    for i in range(1, len(arr)):\n",
    "        if arr[i] < smallest:\n",
    "            smallest = arr[i]\n",
    "            smallest_index = i\n",
    "    return smallest_index\n",
    "\n",
    "def selectionSort(arr):\n",
    "    newArr = []\n",
    "    copiedArr = list(arr)\n",
    "    for i in range(len(arr)):\n",
    "        smallest = findSmallest(copiedArr)\n",
    "        newArr.append(copiedArr.pop(smallest))\n",
    "    return newArr\n",
    "\n",
    "assert([2,3,5,6,10] == selectionSort([5,3,6,2,10]))\n"
   ]
  }
 ],
 "metadata": {
  "kernelspec": {
   "display_name": "python-playground-W_8No6fr",
   "language": "python",
   "name": "python3"
  },
  "language_info": {
   "codemirror_mode": {
    "name": "ipython",
    "version": 3
   },
   "file_extension": ".py",
   "mimetype": "text/x-python",
   "name": "python",
   "nbconvert_exporter": "python",
   "pygments_lexer": "ipython3",
   "version": "3.10.12"
  }
 },
 "nbformat": 4,
 "nbformat_minor": 2
}
