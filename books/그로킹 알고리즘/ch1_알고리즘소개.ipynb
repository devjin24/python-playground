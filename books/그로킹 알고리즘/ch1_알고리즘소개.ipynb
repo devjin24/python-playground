{
 "cells": [
  {
   "cell_type": "markdown",
   "metadata": {},
   "source": [
    "# 알고리즘 소개\n",
    "- 첫 번째 알고리즘인 이진 탐색 알고리즘 구현\n",
    "- 빅오 표기법 학습\n",
    "- 이진 탐색 알고리즘은 정렬되어 있어야함\n",
    "- mid값을 -1, +1하는 이유는 이미 검색했기 때문에 제외하기 위해서"
   ]
  },
  {
   "cell_type": "code",
   "execution_count": 8,
   "metadata": {},
   "outputs": [
    {
     "name": "stdout",
     "output_type": "stream",
     "text": [
      "1\n",
      "None\n"
     ]
    }
   ],
   "source": [
    "def binary_search(arr, item):\n",
    "    low = 0\n",
    "    high = len(arr) - 1\n",
    "\n",
    "    while low <= high:\n",
    "        mid = (low + high) // 2\n",
    "        guess = arr[mid]\n",
    "        if guess == item:\n",
    "            return mid\n",
    "        elif guess > item:\n",
    "            high = mid - 1\n",
    "        else:\n",
    "            low = mid + 1\n",
    "    return None\n",
    "\n",
    "my_list = [1,3,5,7,9]\n",
    "\n",
    "print(binary_search(my_list, 3))\n",
    "print(binary_search(my_list, 2))"
   ]
  },
  {
   "cell_type": "markdown",
   "metadata": {},
   "source": [
    "## 빅오 표기법\n",
    "- 시간이 아니라 연산 횟수가 어떻게 증가하는지로 측정\n",
    "- O(n), O(log n) 등으로 표시"
   ]
  },
  {
   "cell_type": "code",
   "execution_count": 17,
   "metadata": {},
   "outputs": [],
   "source": [
    "def factorial(input):\n",
    "    result = 1\n",
    "\n",
    "    for i in range(1, input + 1):\n",
    "        result = result * i\n",
    "    return result\n",
    "\n",
    "assert factorial(1) == 1\n",
    "assert factorial(2) == 2\n",
    "assert factorial(3) == 6\n",
    "assert factorial(4) == 24\n",
    "assert factorial(5) == 120"
   ]
  },
  {
   "cell_type": "markdown",
   "metadata": {},
   "source": [
    "## 외판원 문제\n",
    "- 외판원은 도시 5곳을 방문해야한다\n",
    "- 가장 짧은 거리로 모두 방문해야한다\n"
   ]
  }
 ],
 "metadata": {
  "kernelspec": {
   "display_name": "python-playground-W_8No6fr",
   "language": "python",
   "name": "python3"
  },
  "language_info": {
   "codemirror_mode": {
    "name": "ipython",
    "version": 3
   },
   "file_extension": ".py",
   "mimetype": "text/x-python",
   "name": "python",
   "nbconvert_exporter": "python",
   "pygments_lexer": "ipython3",
   "version": "3.10.12"
  }
 },
 "nbformat": 4,
 "nbformat_minor": 2
}
