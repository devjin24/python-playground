{
 "cells": [
  {
   "cell_type": "markdown",
   "metadata": {},
   "source": [
    "# 고등학생을 위한 인공신경망과 딥러닝\n",
    "https://wikidocs.net/238107"
   ]
  },
  {
   "cell_type": "code",
   "execution_count": 1,
   "metadata": {},
   "outputs": [
    {
     "name": "stdout",
     "output_type": "stream",
     "text": [
      "Collecting numpy\n",
      "  Downloading numpy-2.1.2-cp310-cp310-macosx_14_0_arm64.whl.metadata (60 kB)\n",
      "Downloading numpy-2.1.2-cp310-cp310-macosx_14_0_arm64.whl (5.4 MB)\n",
      "\u001b[2K   \u001b[90m━━━━━━━━━━━━━━━━━━━━━━━━━━━━━━━━━━━━━━━━\u001b[0m \u001b[32m5.4/5.4 MB\u001b[0m \u001b[31m24.5 MB/s\u001b[0m eta \u001b[36m0:00:00\u001b[0ma \u001b[36m0:00:01\u001b[0m\n",
      "\u001b[?25hInstalling collected packages: numpy\n",
      "Successfully installed numpy-2.1.2\n",
      "\n",
      "\u001b[1m[\u001b[0m\u001b[34;49mnotice\u001b[0m\u001b[1;39;49m]\u001b[0m\u001b[39;49m A new release of pip is available: \u001b[0m\u001b[31;49m24.2\u001b[0m\u001b[39;49m -> \u001b[0m\u001b[32;49m24.3.1\u001b[0m\n",
      "\u001b[1m[\u001b[0m\u001b[34;49mnotice\u001b[0m\u001b[1;39;49m]\u001b[0m\u001b[39;49m To update, run: \u001b[0m\u001b[32;49mpip install --upgrade pip\u001b[0m\n",
      "Note: you may need to restart the kernel to use updated packages.\n"
     ]
    }
   ],
   "source": [
    "pip install numpy"
   ]
  },
  {
   "cell_type": "code",
   "execution_count": 2,
   "metadata": {},
   "outputs": [
    {
     "name": "stdout",
     "output_type": "stream",
     "text": [
      "X: [[0. 0.]\n",
      " [1. 0.]\n",
      " [0. 1.]\n",
      " [1. 1.]]\n",
      "Y: [[0.]\n",
      " [1.]\n",
      " [1.]\n",
      " [1.]]\n"
     ]
    }
   ],
   "source": [
    "import numpy as np\n",
    "\n",
    "data = np.array([[0., 0., 0.],\n",
    "                 [1., 0., 1.],\n",
    "                 [0., 1., 1.],\n",
    "                 [1., 1., 1.]])\n",
    "\n",
    "X = data[:, :2]\n",
    "Y = data[:, -1:]\n",
    "\n",
    "print(\"X:\", X)\n",
    "print(\"Y:\", Y)\n"
   ]
  },
  {
   "cell_type": "code",
   "execution_count": null,
   "metadata": {},
   "outputs": [],
   "source": [
    "def forward(x, w, b):\n",
    "    f = np.dot(w, np.transpose(x, (1, 0))) + b\n",
    "\n",
    "    predict = 1 / (1 + np.exp(-f))\n",
    "\n",
    "    return predict, f\n",
    "\n",
    "\n",
    "def loss_function(predict, y):\n",
    "    return np.sum(-y * np.log(predict) - (1 - y) * np.log(1 - predict))"
   ]
  },
  {
   "cell_type": "code",
   "execution_count": 5,
   "metadata": {},
   "outputs": [
    {
     "name": "stdout",
     "output_type": "stream",
     "text": [
      "f:  [[-2.  2.  2.  6.]]\n",
      "my pred:  [[0.11920292 0.88079708 0.88079708 0.99752738]]\n",
      "my Loss:  0.3832597182666481\n"
     ]
    }
   ],
   "source": [
    "W_my = np.array([[4,4]])\n",
    "B_my = np.array([[-2]])\n",
    "\n",
    "pred_my, f = forward(X, W_my, B_my)\n",
    "print(\"f: \", f)\n",
    "print('my pred: ', pred_my)\n",
    "\n",
    "Loss_my = loss_function(pred_my, np.transpose(Y, (1, 0)))\n",
    "print('my Loss: ', Loss_my)"
   ]
  }
 ],
 "metadata": {
  "kernelspec": {
   "display_name": "python-playground-W_8No6fr",
   "language": "python",
   "name": "python3"
  },
  "language_info": {
   "codemirror_mode": {
    "name": "ipython",
    "version": 3
   },
   "file_extension": ".py",
   "mimetype": "text/x-python",
   "name": "python",
   "nbconvert_exporter": "python",
   "pygments_lexer": "ipython3",
   "version": "3.10.12"
  }
 },
 "nbformat": 4,
 "nbformat_minor": 2
}
