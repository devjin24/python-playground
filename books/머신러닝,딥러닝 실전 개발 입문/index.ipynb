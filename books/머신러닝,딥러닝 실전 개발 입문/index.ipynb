{
 "cells": [
  {
   "cell_type": "code",
   "execution_count": null,
   "metadata": {},
   "outputs": [
    {
     "ename": "",
     "evalue": "",
     "output_type": "error",
     "traceback": [
      "\u001b[1;31mThe kernel failed to start due to the missing module 'appnope'. Consider installing this module.\n",
      "\u001b[1;31mClick <a href='https://aka.ms/kernelFailuresMissingModule'>here</a> for more info."
     ]
    }
   ],
   "source": [
    "pip install -U scikit-learn scipy matplotlib scikit-image pandas"
   ]
  },
  {
   "cell_type": "code",
   "execution_count": 20,
   "metadata": {},
   "outputs": [],
   "source": [
    "import pandas as pd\n",
    "from sklearn import svm, metrics\n",
    "import random, re"
   ]
  },
  {
   "cell_type": "code",
   "execution_count": 22,
   "metadata": {},
   "outputs": [
    {
     "name": "stdout",
     "output_type": "stream",
     "text": [
      " data: [[0, 0], [0, 1], [1, 0], [1, 1]]\n",
      " label: [0, 1, 1, 0]\n",
      " 예측결과: [0 1 1 0]\n",
      "정답률: 4 / 4 = 1.0\n"
     ]
    }
   ],
   "source": [
    "\n",
    "xor_data = [\n",
    "    [0,0,0],\n",
    "    [0,1,1],\n",
    "    [1,0,1],\n",
    "    [1,1,0]\n",
    "]\n",
    "\n",
    "data = []\n",
    "label = []\n",
    "\n",
    "for row in xor_data:\n",
    "    p = row[0]\n",
    "    q = row[1]\n",
    "    r = row[2]\n",
    "    data.append([p,q])\n",
    "    label.append(r)\n",
    "\n",
    "print(\" data:\", data)\n",
    "print(\" label:\", label)\n",
    "clf = svm.SVC()\n",
    "clf.fit(data, label)\n",
    "\n",
    "pre = clf.predict(data)\n",
    "print(\" 예측결과:\", pre)\n",
    "\n",
    "ok = 0; total = 0\n",
    "for idx, answer in enumerate(label):\n",
    "    p = pre[idx]\n",
    "    if p == answer: ok += 1\n",
    "    total += 1\n",
    "\n",
    "print(\"정답률:\", ok, \"/\", total, \"=\", ok/total)"
   ]
  },
  {
   "cell_type": "code",
   "execution_count": 25,
   "metadata": {},
   "outputs": [
    {
     "name": "stdout",
     "output_type": "stream",
     "text": [
      " 학습데이터: [[16.0, 5.7, 4.4, 1.5], [48.0, 4.6, 3.2, 1.4], [142.0, 6.9, 3.1, 5.1], [26.0, 5.0, 3.0, 1.6], [76.0, 6.6, 3.0, 4.4], [20.0, 5.1, 3.8, 1.5], [23.0, 4.6, 3.6, 1.0], [70.0, 5.6, 2.5, 3.9], [83.0, 5.8, 2.7, 3.9], [113.0, 6.8, 3.0, 5.5], [140.0, 6.9, 3.1, 5.4], [31.0, 4.8, 3.1, 1.6], [7.0, 4.6, 3.4, 1.4], [144.0, 6.8, 3.2, 5.9], [122.0, 5.6, 2.8, 4.9], [136.0, 7.7, 3.0, 6.1], [4.0, 4.6, 3.1, 1.5], [109.0, 6.7, 2.5, 5.8], [78.0, 6.7, 3.0, 5.0], [58.0, 4.9, 2.4, 3.3], [115.0, 5.8, 2.8, 5.1], [134.0, 6.3, 2.8, 5.1], [88.0, 6.3, 2.3, 4.4], [126.0, 7.2, 3.2, 6.0], [75.0, 6.4, 2.9, 4.3], [103.0, 7.1, 3.0, 5.9], [67.0, 5.6, 3.0, 4.5], [27.0, 5.0, 3.4, 1.6], [35.0, 4.9, 3.1, 1.5], [71.0, 5.9, 3.2, 4.8], [13.0, 4.8, 3.0, 1.4], [53.0, 6.9, 3.1, 4.9], [92.0, 6.1, 3.0, 4.6], [106.0, 7.6, 3.0, 6.6], [41.0, 5.0, 3.5, 1.3], [5.0, 5.0, 3.6, 1.4], [12.0, 4.8, 3.4, 1.6], [90.0, 5.5, 2.5, 4.0], [28.0, 5.2, 3.5, 1.5], [84.0, 6.0, 2.7, 5.1], [94.0, 5.0, 2.3, 3.3], [14.0, 4.3, 3.0, 1.1], [21.0, 5.4, 3.4, 1.7], [110.0, 7.2, 3.6, 6.1], [98.0, 6.2, 2.9, 4.3], [46.0, 4.8, 3.0, 1.4], [74.0, 6.1, 2.8, 4.7], [40.0, 5.1, 3.4, 1.5], [148.0, 6.5, 3.0, 5.2], [65.0, 5.6, 2.9, 3.6], [102.0, 5.8, 2.7, 5.1], [104.0, 6.3, 2.9, 5.6], [39.0, 4.4, 3.0, 1.3], [150.0, 5.9, 3.0, 5.1], [82.0, 5.5, 2.4, 3.7], [38.0, 4.9, 3.1, 1.5], [105.0, 6.5, 3.0, 5.8], [15.0, 5.8, 4.0, 1.2], [1.0, 5.1, 3.5, 1.4], [43.0, 4.4, 3.2, 1.3], [96.0, 5.7, 3.0, 4.2], [114.0, 5.7, 2.5, 5.0], [42.0, 4.5, 2.3, 1.3], [3.0, 4.7, 3.2, 1.3], [44.0, 5.0, 3.5, 1.6], [135.0, 6.1, 2.6, 5.6], [47.0, 5.1, 3.8, 1.6], [77.0, 6.8, 2.8, 4.8], [56.0, 5.7, 2.8, 4.5], [19.0, 5.7, 3.8, 1.7], [51.0, 7.0, 3.2, 4.7], [127.0, 6.2, 2.8, 4.8], [130.0, 7.2, 3.0, 5.8], [59.0, 6.6, 2.9, 4.6], [137.0, 6.3, 3.4, 5.6], [131.0, 7.4, 2.8, 6.1], [119.0, 7.7, 2.6, 6.9], [54.0, 5.5, 2.3, 4.0], [123.0, 7.7, 2.8, 6.7], [120.0, 6.0, 2.2, 5.0], [6.0, 5.4, 3.9, 1.7], [99.0, 5.1, 2.5, 3.0], [93.0, 5.8, 2.6, 4.0], [36.0, 5.0, 3.2, 1.2], [68.0, 5.8, 2.7, 4.1], [73.0, 6.3, 2.5, 4.9], [57.0, 6.3, 3.3, 4.7], [10.0, 4.9, 3.1, 1.5], [111.0, 6.5, 3.2, 5.1], [24.0, 5.1, 3.3, 1.7], [147.0, 6.3, 2.5, 5.0], [30.0, 4.7, 3.2, 1.6], [22.0, 5.1, 3.7, 1.5], [89.0, 5.6, 3.0, 4.1], [118.0, 7.7, 3.8, 6.7], [116.0, 6.4, 3.2, 5.3], [37.0, 5.5, 3.5, 1.3], [141.0, 6.7, 3.1, 5.6], [60.0, 5.2, 2.7, 3.9], [139.0, 6.0, 3.0, 4.8]]\n",
      " 정답셋: [0.4, 0.2, 2.3, 0.2, 1.4, 0.3, 0.2, 1.1, 1.2, 2.1, 2.1, 0.2, 0.3, 2.3, 2.0, 2.3, 0.2, 1.8, 1.7, 1.0, 2.4, 1.5, 1.3, 1.8, 1.3, 2.1, 1.5, 0.4, 0.1, 1.8, 0.1, 1.5, 1.4, 2.1, 0.3, 0.2, 0.2, 1.3, 0.2, 1.6, 1.0, 0.1, 0.2, 2.5, 1.3, 0.3, 1.2, 0.2, 2.0, 1.3, 1.9, 1.8, 0.2, 1.8, 1.0, 0.1, 2.2, 0.2, 0.2, 0.2, 1.2, 2.0, 0.3, 0.2, 0.6, 1.4, 0.2, 1.4, 1.3, 0.3, 1.4, 1.8, 1.6, 1.3, 2.4, 1.9, 2.3, 1.3, 2.0, 1.5, 0.4, 1.1, 1.2, 0.2, 1.0, 1.5, 1.6, 0.1, 2.0, 0.5, 1.9, 0.2, 0.4, 1.3, 2.2, 2.3, 0.2, 2.4, 1.4, 1.8]\n",
      " ㅁㅁ: [2.00076883 0.32673173 1.95956654 1.49412796 0.3144499  1.0107515\n",
      " 0.2068244  1.99718579 1.75882303 0.27805675 1.84856518 2.00607758\n",
      " 1.98542837 1.19646475 1.89616915 1.61124357 1.96349877 0.79418362\n",
      " 0.97448806 1.71432243 1.9839955  0.91095424 1.97763122 0.24541023\n",
      " 1.98645761 2.00330045 0.20465315 1.68040568 0.34079399 1.91805764\n",
      " 0.52996679 0.95302329 1.373309   1.06027883 0.20675495 1.39809607\n",
      " 0.2474549  0.20605152 0.21406262 0.7231521  1.54729392 2.00856409\n",
      " 0.62627846 1.98692474 1.13066922 2.02377918 1.51974548 1.36748127\n",
      " 0.6084419  1.80128213]\n"
     ]
    },
    {
     "ename": "ValueError",
     "evalue": "continuous is not supported",
     "output_type": "error",
     "traceback": [
      "\u001b[1;31m---------------------------------------------------------------------------\u001b[0m",
      "\u001b[1;31mValueError\u001b[0m                                Traceback (most recent call last)",
      "Cell \u001b[1;32mIn[25], line 35\u001b[0m\n\u001b[0;32m     33\u001b[0m pre \u001b[38;5;241m=\u001b[39m clf\u001b[38;5;241m.\u001b[39mpredict(test_data)\n\u001b[0;32m     34\u001b[0m \u001b[38;5;28mprint\u001b[39m(\u001b[38;5;124m\"\u001b[39m\u001b[38;5;124m ㅁㅁ:\u001b[39m\u001b[38;5;124m\"\u001b[39m, pre)\n\u001b[1;32m---> 35\u001b[0m ac_score \u001b[38;5;241m=\u001b[39m \u001b[43mmetrics\u001b[49m\u001b[38;5;241;43m.\u001b[39;49m\u001b[43maccuracy_score\u001b[49m\u001b[43m(\u001b[49m\u001b[43mtest_label\u001b[49m\u001b[43m,\u001b[49m\u001b[43m \u001b[49m\u001b[43mpre\u001b[49m\u001b[43m)\u001b[49m\n\u001b[0;32m     36\u001b[0m \u001b[38;5;28mprint\u001b[39m(\u001b[38;5;124m\"\u001b[39m\u001b[38;5;124m정답률=\u001b[39m\u001b[38;5;124m\"\u001b[39m, ac_score)\n",
      "File \u001b[1;32mc:\\Users\\devjin24\\.virtualenvs\\python-polayground-N7IW_Y6U\\lib\\site-packages\\sklearn\\utils\\_param_validation.py:213\u001b[0m, in \u001b[0;36mvalidate_params.<locals>.decorator.<locals>.wrapper\u001b[1;34m(*args, **kwargs)\u001b[0m\n\u001b[0;32m    207\u001b[0m \u001b[38;5;28;01mtry\u001b[39;00m:\n\u001b[0;32m    208\u001b[0m     \u001b[38;5;28;01mwith\u001b[39;00m config_context(\n\u001b[0;32m    209\u001b[0m         skip_parameter_validation\u001b[38;5;241m=\u001b[39m(\n\u001b[0;32m    210\u001b[0m             prefer_skip_nested_validation \u001b[38;5;129;01mor\u001b[39;00m global_skip_validation\n\u001b[0;32m    211\u001b[0m         )\n\u001b[0;32m    212\u001b[0m     ):\n\u001b[1;32m--> 213\u001b[0m         \u001b[38;5;28;01mreturn\u001b[39;00m func(\u001b[38;5;241m*\u001b[39margs, \u001b[38;5;241m*\u001b[39m\u001b[38;5;241m*\u001b[39mkwargs)\n\u001b[0;32m    214\u001b[0m \u001b[38;5;28;01mexcept\u001b[39;00m InvalidParameterError \u001b[38;5;28;01mas\u001b[39;00m e:\n\u001b[0;32m    215\u001b[0m     \u001b[38;5;66;03m# When the function is just a wrapper around an estimator, we allow\u001b[39;00m\n\u001b[0;32m    216\u001b[0m     \u001b[38;5;66;03m# the function to delegate validation to the estimator, but we replace\u001b[39;00m\n\u001b[0;32m    217\u001b[0m     \u001b[38;5;66;03m# the name of the estimator by the name of the function in the error\u001b[39;00m\n\u001b[0;32m    218\u001b[0m     \u001b[38;5;66;03m# message to avoid confusion.\u001b[39;00m\n\u001b[0;32m    219\u001b[0m     msg \u001b[38;5;241m=\u001b[39m re\u001b[38;5;241m.\u001b[39msub(\n\u001b[0;32m    220\u001b[0m         \u001b[38;5;124mr\u001b[39m\u001b[38;5;124m\"\u001b[39m\u001b[38;5;124mparameter of \u001b[39m\u001b[38;5;124m\\\u001b[39m\u001b[38;5;124mw+ must be\u001b[39m\u001b[38;5;124m\"\u001b[39m,\n\u001b[0;32m    221\u001b[0m         \u001b[38;5;124mf\u001b[39m\u001b[38;5;124m\"\u001b[39m\u001b[38;5;124mparameter of \u001b[39m\u001b[38;5;132;01m{\u001b[39;00mfunc\u001b[38;5;241m.\u001b[39m\u001b[38;5;18m__qualname__\u001b[39m\u001b[38;5;132;01m}\u001b[39;00m\u001b[38;5;124m must be\u001b[39m\u001b[38;5;124m\"\u001b[39m,\n\u001b[0;32m    222\u001b[0m         \u001b[38;5;28mstr\u001b[39m(e),\n\u001b[0;32m    223\u001b[0m     )\n",
      "File \u001b[1;32mc:\\Users\\devjin24\\.virtualenvs\\python-polayground-N7IW_Y6U\\lib\\site-packages\\sklearn\\metrics\\_classification.py:231\u001b[0m, in \u001b[0;36maccuracy_score\u001b[1;34m(y_true, y_pred, normalize, sample_weight)\u001b[0m\n\u001b[0;32m    229\u001b[0m xp, _, device \u001b[38;5;241m=\u001b[39m get_namespace_and_device(y_true, y_pred, sample_weight)\n\u001b[0;32m    230\u001b[0m \u001b[38;5;66;03m# Compute accuracy for each possible representation\u001b[39;00m\n\u001b[1;32m--> 231\u001b[0m y_type, y_true, y_pred \u001b[38;5;241m=\u001b[39m \u001b[43m_check_targets\u001b[49m\u001b[43m(\u001b[49m\u001b[43my_true\u001b[49m\u001b[43m,\u001b[49m\u001b[43m \u001b[49m\u001b[43my_pred\u001b[49m\u001b[43m)\u001b[49m\n\u001b[0;32m    232\u001b[0m check_consistent_length(y_true, y_pred, sample_weight)\n\u001b[0;32m    233\u001b[0m \u001b[38;5;28;01mif\u001b[39;00m y_type\u001b[38;5;241m.\u001b[39mstartswith(\u001b[38;5;124m\"\u001b[39m\u001b[38;5;124mmultilabel\u001b[39m\u001b[38;5;124m\"\u001b[39m):\n",
      "File \u001b[1;32mc:\\Users\\devjin24\\.virtualenvs\\python-polayground-N7IW_Y6U\\lib\\site-packages\\sklearn\\metrics\\_classification.py:123\u001b[0m, in \u001b[0;36m_check_targets\u001b[1;34m(y_true, y_pred)\u001b[0m\n\u001b[0;32m    121\u001b[0m \u001b[38;5;66;03m# No metrics support \"multiclass-multioutput\" format\u001b[39;00m\n\u001b[0;32m    122\u001b[0m \u001b[38;5;28;01mif\u001b[39;00m y_type \u001b[38;5;129;01mnot\u001b[39;00m \u001b[38;5;129;01min\u001b[39;00m [\u001b[38;5;124m\"\u001b[39m\u001b[38;5;124mbinary\u001b[39m\u001b[38;5;124m\"\u001b[39m, \u001b[38;5;124m\"\u001b[39m\u001b[38;5;124mmulticlass\u001b[39m\u001b[38;5;124m\"\u001b[39m, \u001b[38;5;124m\"\u001b[39m\u001b[38;5;124mmultilabel-indicator\u001b[39m\u001b[38;5;124m\"\u001b[39m]:\n\u001b[1;32m--> 123\u001b[0m     \u001b[38;5;28;01mraise\u001b[39;00m \u001b[38;5;167;01mValueError\u001b[39;00m(\u001b[38;5;124m\"\u001b[39m\u001b[38;5;132;01m{0}\u001b[39;00m\u001b[38;5;124m is not supported\u001b[39m\u001b[38;5;124m\"\u001b[39m\u001b[38;5;241m.\u001b[39mformat(y_type))\n\u001b[0;32m    125\u001b[0m \u001b[38;5;28;01mif\u001b[39;00m y_type \u001b[38;5;129;01min\u001b[39;00m [\u001b[38;5;124m\"\u001b[39m\u001b[38;5;124mbinary\u001b[39m\u001b[38;5;124m\"\u001b[39m, \u001b[38;5;124m\"\u001b[39m\u001b[38;5;124mmulticlass\u001b[39m\u001b[38;5;124m\"\u001b[39m]:\n\u001b[0;32m    126\u001b[0m     xp, _ \u001b[38;5;241m=\u001b[39m get_namespace(y_true, y_pred)\n",
      "\u001b[1;31mValueError\u001b[0m: continuous is not supported"
     ]
    }
   ],
   "source": [
    "csv = []\n",
    "with open('Iris.csv', 'r', encoding='utf-8') as fp:\n",
    "    for line in fp:\n",
    "        line = line.strip()\n",
    "        cols = line.split(',')\n",
    "        fn = lambda n: float(n) if re.match(r'^[0-9\\.]+$', n) else n\n",
    "        cols = list(map(fn, cols))\n",
    "        csv.append(cols)\n",
    "del csv[0]\n",
    "\n",
    "random.shuffle(csv)\n",
    "total_len = len(csv) #150\n",
    "train_len = int(total_len * 2 / 3) #100\n",
    "train_data = []\n",
    "train_label = []\n",
    "test_data = []\n",
    "test_label = []\n",
    "\n",
    "for i in range(total_len):\n",
    "    data = csv[i][0:4]\n",
    "    label = csv[i][4]\n",
    "    if i < train_len:\n",
    "        train_data.append(data)\n",
    "        train_label.append(label)\n",
    "    else:\n",
    "        test_data.append(data)\n",
    "        test_label.append(label)\n",
    "\n",
    "print(\" 학습데이터:\", train_data)\n",
    "print(\" 정답셋:\", train_label)\n",
    "clf = svm.SVR()\n",
    "clf.fit(train_data, train_label)\n",
    "pre = clf.predict(test_data)\n",
    "\n",
    "ac_score = metrics.accuracy_score(test_label, pre)\n",
    "print(\"정답률=\", ac_score)"
   ]
  }
 ],
 "metadata": {
  "kernelspec": {
   "display_name": "python-playground-W_8No6fr",
   "language": "python",
   "name": "python3"
  },
  "language_info": {
   "codemirror_mode": {
    "name": "ipython",
    "version": 3
   },
   "file_extension": ".py",
   "mimetype": "text/x-python",
   "name": "python",
   "nbconvert_exporter": "python",
   "pygments_lexer": "ipython3",
   "version": "3.10.12"
  }
 },
 "nbformat": 4,
 "nbformat_minor": 2
}
