{
 "cells": [
  {
   "cell_type": "code",
   "execution_count": 5,
   "metadata": {},
   "outputs": [
    {
     "name": "stdout",
     "output_type": "stream",
     "text": [
      "6\n",
      "144\n"
     ]
    }
   ],
   "source": [
    "def gcd(a,b):\n",
    "    if(b == 0):\n",
    "        return a\n",
    "    else:\n",
    "        return gcd(b, a % b)\n",
    "\n",
    "print(gcd(48,18))\n",
    "\n",
    "def lcm(a, b):\n",
    "    return a * b // gcd(a,b)\n",
    "\n",
    "print(lcm(48,18))"
   ]
  },
  {
   "cell_type": "code",
   "execution_count": 6,
   "metadata": {},
   "outputs": [
    {
     "name": "stdout",
     "output_type": "stream",
     "text": [
      "[4, 6, 7, 8, 23]\n"
     ]
    }
   ],
   "source": [
    "def quickSort(arr):\n",
    "    if len(arr) < 2:\n",
    "        return arr\n",
    "    else:\n",
    "        pivot = arr[0]\n",
    "        less = [i for i in arr[1:] if i <= pivot]\n",
    "        greater = [i for i in arr[1:] if i > pivot]\n",
    "        return quickSort(less) + [pivot] + quickSort(greater)\n",
    "    \n",
    "print(quickSort([4,7,23,6,8]))"
   ]
  },
  {
   "cell_type": "code",
   "execution_count": null,
   "metadata": {},
   "outputs": [],
   "source": [
    "def divisor(n):\n",
    "    return [i for i in range(1,n+1) if n % i == 0]\n",
    "\n",
    "assert(divisor(12) == [1,2,3,4,6,12])\n",
    "assert(divisor(4) == [1,2,4])\n"
   ]
  },
  {
   "cell_type": "code",
   "execution_count": 5,
   "metadata": {},
   "outputs": [],
   "source": [
    "def factorial(n):\n",
    "    if n == 1:\n",
    "        return 1\n",
    "    else:\n",
    "        return n * factorial(n-1)\n",
    "    \n",
    "def factorial2(n):\n",
    "    r = 1\n",
    "    for i in range(2,n + 1):\n",
    "        r *= i\n",
    "    return r\n",
    "\n",
    "\n",
    "assert(factorial(3) == 6)\n",
    "assert(factorial(4) == 24)\n",
    "assert(factorial(5) == 120)\n",
    "\n",
    "assert(factorial2(3) == 6)\n",
    "assert(factorial2(4) == 24)\n",
    "assert(factorial2(5) == 120)"
   ]
  },
  {
   "cell_type": "code",
   "execution_count": null,
   "metadata": {},
   "outputs": [],
   "source": [
    "def getPrimes(n):\n",
    "    isPrime = [True for _ in range(n + 1)]\n",
    "    isPrime[0] = isPrime [1] = False\n",
    "    for i in range(2, n + 1):\n",
    "        if isPrime[i]:\n",
    "            for j in range(i * i, n + 1, i):\n",
    "                isPrime[j] = False\n",
    "\n",
    "\n",
    "    return [i for i in range(2, n + 1) if isPrime[i]]\n",
    "\n",
    "\n",
    "        \n",
    "expected = [2, 3, 5, 7, 11, 13, 17, 19, 23, 29, 31, 37, 41, 43, 47, 53, 59, 61, 67, 71, 73, 79, 83, 89, 97, 101, 103, 107, 109, 113, 127, 131,137, 139]\n",
    "assert(expected == getPrimes(144))\n"
   ]
  }
 ],
 "metadata": {
  "kernelspec": {
   "display_name": "python-playground-W_8No6fr",
   "language": "python",
   "name": "python3"
  },
  "language_info": {
   "codemirror_mode": {
    "name": "ipython",
    "version": 3
   },
   "file_extension": ".py",
   "mimetype": "text/x-python",
   "name": "python",
   "nbconvert_exporter": "python",
   "pygments_lexer": "ipython3",
   "version": "3.10.12"
  }
 },
 "nbformat": 4,
 "nbformat_minor": 2
}
